{
 "cells": [
  {
   "cell_type": "code",
   "execution_count": 2,
   "metadata": {
    "collapsed": false
   },
   "outputs": [
    {
     "name": "stdout",
     "output_type": "stream",
     "text": [
      "9\n"
     ]
    }
   ],
   "source": [
    "def max_in_list(lst = None):\n",
    "    result = None\n",
    "    if lst is not None:\n",
    "        result = reduce(lambda x,y: x if x > y else y, lst)\n",
    "    return result\n",
    "\n",
    "print max_in_list([1,2,3,4,5,6,7,8,9])"
   ]
  },
  {
   "cell_type": "code",
   "execution_count": 3,
   "metadata": {
    "collapsed": false
   },
   "outputs": [
    {
     "name": "stdout",
     "output_type": "stream",
     "text": [
      "[3, 5]\n",
      "[3, 5]\n",
      "[3, 5]\n"
     ]
    }
   ],
   "source": [
    "#using for loop\n",
    "def words_to_length(lst = None):\n",
    "    result = []\n",
    "    if lst is not None:\n",
    "        for item in lst:\n",
    "           result.append(len(item))\n",
    "        \n",
    "    return result\n",
    "\n",
    "print words_to_length(['aaa','bbbaa'])\n",
    "\n",
    "#using map\n",
    "def words_to_length2(lst = None):\n",
    "    result = None\n",
    "    if lst is not None:\n",
    "        result = map(lambda x: len(x),lst)\n",
    "        \n",
    "    return result\n",
    "\n",
    "print words_to_length2(['aaa','bbbaa'])\n",
    "\n",
    "#using list comprehension\n",
    "def words_to_length3(lst = None):\n",
    "    result = None\n",
    "    if lst is not None:\n",
    "        result = [len(item) for item in lst]\n",
    "        \n",
    "    return result\n",
    "\n",
    "print words_to_length3(['aaa','bbbaa'])"
   ]
  },
  {
   "cell_type": "code",
   "execution_count": 4,
   "metadata": {
    "collapsed": false
   },
   "outputs": [
    {
     "name": "stdout",
     "output_type": "stream",
     "text": [
      "7\n"
     ]
    }
   ],
   "source": [
    "def find_longest_word(lst = None):\n",
    "    #lst = ['aaa','bbbb','ccccc']\n",
    "    result = None\n",
    "    if lst is not None:\n",
    "        result = reduce(lambda x,y: x if len(x) > len(y) else y,lst)\n",
    "        result = len(result)\n",
    "    return result\n",
    "\n",
    "print find_longest_word(['aaa','bbbb','ccccc','ddddddd'])"
   ]
  },
  {
   "cell_type": "code",
   "execution_count": 5,
   "metadata": {
    "collapsed": false
   },
   "outputs": [
    {
     "name": "stdout",
     "output_type": "stream",
     "text": [
      "['ccccc', 'dddddddd']\n"
     ]
    }
   ],
   "source": [
    "def filter_long_words(lst = None, n = 0):\n",
    "    #lst = ['aaa','bbbb','ccccc','dddddddd']\n",
    "    #n = 4\n",
    "    result = None\n",
    "    if lst is not None:\n",
    "        result = filter(lambda x: len(x) > n, lst)\n",
    "        \n",
    "    return result\n",
    "\n",
    "print filter_long_words(['aaa','bbbb','ccccc','dddddddd'],4)"
   ]
  },
  {
   "cell_type": "code",
   "execution_count": 13,
   "metadata": {
    "collapsed": false
   },
   "outputs": [
    {
     "name": "stdout",
     "output_type": "stream",
     "text": [
      "god jul och gott nytt år\n"
     ]
    }
   ],
   "source": [
    "def translate_greeting():\n",
    "    dct = {\"merry\":\"god\", \"christmas\":\"jul\", \"and\":\"och\", \"happy\":\"gott\", \"new\":\"nytt\", \"year\":\"år\"}\n",
    "    \n",
    "    greeting = 'merry christmas and happy new year'\n",
    "    \n",
    "    result = ' '.join(map(lambda x: dct[x],greeting.split()))\n",
    "    \n",
    "    return result\n",
    "           \n",
    "print translate_greeting()"
   ]
  },
  {
   "cell_type": "code",
   "execution_count": 21,
   "metadata": {
    "collapsed": false
   },
   "outputs": [
    {
     "name": "stdout",
     "output_type": "stream",
     "text": [
      "10\n",
      "[3, 4]\n",
      "[1, 4, 9, 16]\n"
     ]
    }
   ],
   "source": [
    "#reduce implementation\n",
    "def my_reduce(func,sequence):\n",
    "    first = sequence[0]\n",
    "    for next in sequence[1:]:\n",
    "        first = func(first,next)\n",
    "    return first\n",
    "\n",
    "print my_reduce(lambda x,y: x + y,[1,2,3,4])\n",
    "\n",
    "#filter implementation\n",
    "def my_filter(func,sequence):\n",
    "    result = [itm for itm in sequence if func(itm)]\n",
    "    return result\n",
    "\n",
    "print my_filter(lambda x: x > 2,[1,2,3,4])\n",
    "\n",
    "#map implementation\n",
    "def my_map(func,sequence):\n",
    "    result = []\n",
    "    if sequence is not None:\n",
    "        for item in sequence:\n",
    "            result.append(func(item))\n",
    "    return result\n",
    "\n",
    "print my_map(lambda x: x**2,[1,2,3,4])"
   ]
  },
  {
   "cell_type": "code",
   "execution_count": null,
   "metadata": {
    "collapsed": true
   },
   "outputs": [],
   "source": []
  }
 ],
 "metadata": {
  "kernelspec": {
   "display_name": "Python 2",
   "language": "python",
   "name": "python2"
  },
  "language_info": {
   "codemirror_mode": {
    "name": "ipython",
    "version": 2
   },
   "file_extension": ".py",
   "mimetype": "text/x-python",
   "name": "python",
   "nbconvert_exporter": "python",
   "pygments_lexer": "ipython2",
   "version": "2.7.11"
  }
 },
 "nbformat": 4,
 "nbformat_minor": 0
}
